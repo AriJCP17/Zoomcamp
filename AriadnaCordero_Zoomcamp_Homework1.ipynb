{
 "cells": [
  {
   "cell_type": "markdown",
   "id": "b4fc9675",
   "metadata": {},
   "source": [
    "## Session # 1 Homework\n",
    "Ariadna Jaqueline Cordero Portocarrero\n",
    "Set up the environment\n",
    "You need to install Python, NumPy, Pandas, Matplotlib and Seaborn.\n",
    "\n",
    "For that, you can read the instructions from 06-environment.md."
   ]
  },
  {
   "cell_type": "markdown",
   "id": "27c4bad2",
   "metadata": {},
   "source": [
    "### Question 1\n",
    "What's the version of NumPy that you installed?\n",
    "\n",
    "You can get the version information using the `__version__` field:"
   ]
  },
  {
   "cell_type": "code",
   "execution_count": 2,
   "id": "a0262383",
   "metadata": {},
   "outputs": [
    {
     "data": {
      "text/plain": [
       "'1.21.5'"
      ]
     },
     "execution_count": 2,
     "metadata": {},
     "output_type": "execute_result"
    }
   ],
   "source": [
    "import numpy as np\n",
    "np.__version__"
   ]
  },
  {
   "cell_type": "markdown",
   "id": "cbd13f2f",
   "metadata": {},
   "source": [
    "### Getting the data \n",
    "\n",
    "For this homework, we'll use the Car price dataset. Download it from \n",
    "[here](https://raw.githubusercontent.com/alexeygrigorev/mlbookcamp-code/master/chapter-02-car-price/data.csv).\n",
    "\n",
    "You can do it with wget:\n",
    "\n",
    "```bash\n",
    "wget https://raw.githubusercontent.com/alexeygrigorev/mlbookcamp-code/master/chapter-02-car-price/data.csv\n",
    "```\n",
    "\n",
    "Or just open it with your browser and click \"Save as...\".\n",
    "\n",
    "Now read it with Pandas."
   ]
  },
  {
   "cell_type": "code",
   "execution_count": 48,
   "id": "d89d5edb",
   "metadata": {},
   "outputs": [],
   "source": [
    "import pandas as pd\n",
    "path=r'C:/Users/ariad/OneDrive/Documentos/zoomcamp/data_cars.csv'\n",
    "data=pd.read_csv(path)"
   ]
  },
  {
   "cell_type": "markdown",
   "id": "3776d8e7",
   "metadata": {},
   "source": [
    "### Question 2\n",
    "\n",
    "How many records are in the dataset?\n",
    "\n",
    "Here you need to specify the number of rows.\n",
    "\n",
    "- 16\n",
    "- 6572\n",
    "- 11914\n",
    "- 18990"
   ]
  },
  {
   "cell_type": "code",
   "execution_count": 4,
   "id": "3ed5ff8d",
   "metadata": {},
   "outputs": [
    {
     "data": {
      "text/plain": [
       "(11914, 16)"
      ]
     },
     "execution_count": 4,
     "metadata": {},
     "output_type": "execute_result"
    }
   ],
   "source": [
    "data.shape"
   ]
  },
  {
   "cell_type": "markdown",
   "id": "959c0868",
   "metadata": {},
   "source": [
    "### Question 3\n",
    "\n",
    "Who are the most frequent car manufacturers (top-3) according to the dataset?\n",
    "\n",
    "- Chevrolet, Volkswagen, Toyota\n",
    "- Chevrolet, Ford, Toyota\n",
    "- Ford, Volkswagen, Toyota\n",
    "- Chevrolet, Ford, Volkswagen\n",
    "\n",
    "> **Note**: You should rely on \"Make\" column in this question."
   ]
  },
  {
   "cell_type": "code",
   "execution_count": 51,
   "id": "463f863f",
   "metadata": {},
   "outputs": [
    {
     "data": {
      "text/plain": [
       "Chevrolet     1123\n",
       "Ford           881\n",
       "Volkswagen     809\n",
       "Name: Make, dtype: int64"
      ]
     },
     "execution_count": 51,
     "metadata": {},
     "output_type": "execute_result"
    }
   ],
   "source": [
    "data[\"Make\"].value_counts().head(3)"
   ]
  },
  {
   "cell_type": "markdown",
   "id": "81d48052",
   "metadata": {},
   "source": [
    "### Question 4\n",
    "\n",
    "What's the number of unique Audi car models in the dataset?\n",
    "\n",
    "- 3\n",
    "- 16\n",
    "- 26\n",
    "- 34"
   ]
  },
  {
   "cell_type": "code",
   "execution_count": 16,
   "id": "5ac3801c",
   "metadata": {},
   "outputs": [
    {
     "data": {
      "text/plain": [
       "34"
      ]
     },
     "execution_count": 16,
     "metadata": {},
     "output_type": "execute_result"
    }
   ],
   "source": [
    "data[data.Make=='Audi'].Model.nunique()"
   ]
  },
  {
   "cell_type": "markdown",
   "id": "7c4bbeac",
   "metadata": {},
   "source": [
    "### Question 5\n",
    "\n",
    "How many columns in the dataset have missing values?\n",
    "\n",
    "- 5\n",
    "- 6\n",
    "- 7\n",
    "- 8"
   ]
  },
  {
   "cell_type": "code",
   "execution_count": 53,
   "id": "da8167f7",
   "metadata": {},
   "outputs": [
    {
     "data": {
      "text/plain": [
       "Make                    0\n",
       "Model                   0\n",
       "Year                    0\n",
       "Engine Fuel Type        3\n",
       "Engine HP              69\n",
       "Engine Cylinders       30\n",
       "Transmission Type       0\n",
       "Driven_Wheels           0\n",
       "Number of Doors         6\n",
       "Market Category      3742\n",
       "Vehicle Size            0\n",
       "Vehicle Style           0\n",
       "highway MPG             0\n",
       "city mpg                0\n",
       "Popularity              0\n",
       "MSRP                    0\n",
       "dtype: int64"
      ]
     },
     "execution_count": 53,
     "metadata": {},
     "output_type": "execute_result"
    }
   ],
   "source": [
    "data.isna().sum()"
   ]
  },
  {
   "cell_type": "markdown",
   "id": "9f1cabe3",
   "metadata": {},
   "source": [
    "### Question 6\n",
    "\n",
    "1. Find the median value of \"Engine Cylinders\" column in the dataset.\n",
    "2. Next, calculate the most frequent value of the same \"Engine Cylinders\".\n",
    "3. Use the `fillna` method to fill the missing values in \"Engine Cylinders\" with the most frequent value from the previous step.\n",
    "4. Now, calculate the median value of \"Engine Cylinders\" once again.\n",
    "\n",
    "Has it changed?\n",
    "\n",
    "> Hint: refer to existing `mode` and `median` functions to complete the task.\n",
    "\n",
    "- Yes\n",
    "- No"
   ]
  },
  {
   "cell_type": "code",
   "execution_count": 56,
   "id": "f4276d1f",
   "metadata": {},
   "outputs": [
    {
     "data": {
      "text/plain": [
       "6.0"
      ]
     },
     "execution_count": 56,
     "metadata": {},
     "output_type": "execute_result"
    }
   ],
   "source": [
    "data[\"Engine Cylinders\"].median()"
   ]
  },
  {
   "cell_type": "code",
   "execution_count": 57,
   "id": "2213a882",
   "metadata": {},
   "outputs": [],
   "source": [
    "moda=data[\"Engine Cylinders\"].mode().item()"
   ]
  },
  {
   "cell_type": "code",
   "execution_count": 59,
   "id": "d421882e",
   "metadata": {},
   "outputs": [],
   "source": [
    "data_new=data.copy()\n",
    "data_new[\"Engine Cylinders\"]=data_new[\"Engine Cylinders\"].fillna(value=moda)"
   ]
  },
  {
   "cell_type": "code",
   "execution_count": 60,
   "id": "c688555e",
   "metadata": {},
   "outputs": [
    {
     "data": {
      "text/plain": [
       "6.0"
      ]
     },
     "execution_count": 60,
     "metadata": {},
     "output_type": "execute_result"
    }
   ],
   "source": [
    "data_new[\"Engine Cylinders\"].median()"
   ]
  },
  {
   "cell_type": "markdown",
   "id": "14e9986c",
   "metadata": {},
   "source": [
    "### Question 7\n",
    "\n",
    "1. Select all the \"Lotus\" cars from the dataset.\n",
    "2. Select only columns \"Engine HP\", \"Engine Cylinders\".\n",
    "3. Now drop all duplicated rows using `drop_duplicates` method (you should get a dataframe with 9 rows).\n",
    "4. Get the underlying NumPy array. Let's call it `X`.\n",
    "5. Compute matrix-matrix multiplication between the transpose of `X` and `X`. To get the transpose, use `X.T`. Let's call the result `XTX`.\n",
    "6. Compute the inverse of `XTX`.\n",
    "7. Create an array `y` with values `[1100, 800, 750, 850, 1300, 1000, 1000, 1300, 800]`.\n",
    "8. Multiply the inverse of `XTX` with the transpose of `X`, and then multiply the result by `y`. Call the result `w`.\n",
    "9. What's the value of the first element of `w`?\n",
    "\n",
    "> **Note**: You just implemented linear regression. We'll talk about it in the next lesson.\n",
    "\n",
    "- -0.0723\n",
    "- 4.5949\n",
    "- 31.6537\n",
    "- 63.5643"
   ]
  },
  {
   "cell_type": "code",
   "execution_count": 62,
   "id": "ddb72a4d",
   "metadata": {},
   "outputs": [],
   "source": [
    "#1, 2, 3\n",
    "lotus=data[data.Make=='Lotus'][[\"Engine HP\", \"Engine Cylinders\"]].drop_duplicates()"
   ]
  },
  {
   "cell_type": "code",
   "execution_count": 63,
   "id": "9539cc73",
   "metadata": {},
   "outputs": [
    {
     "data": {
      "text/plain": [
       "(9, 2)"
      ]
     },
     "execution_count": 63,
     "metadata": {},
     "output_type": "execute_result"
    }
   ],
   "source": [
    "lotus.shape"
   ]
  },
  {
   "cell_type": "code",
   "execution_count": 36,
   "id": "517dd8b6",
   "metadata": {},
   "outputs": [],
   "source": [
    "#4\n",
    "X=lotus.values"
   ]
  },
  {
   "cell_type": "code",
   "execution_count": 37,
   "id": "0c09c84e",
   "metadata": {},
   "outputs": [],
   "source": [
    "#5\n",
    "XTX=np.matmul(X.T,X)"
   ]
  },
  {
   "cell_type": "code",
   "execution_count": 39,
   "id": "764eab40",
   "metadata": {},
   "outputs": [],
   "source": [
    "#6\n",
    "XTXI=np.linalg.inv(XTX)"
   ]
  },
  {
   "cell_type": "code",
   "execution_count": 40,
   "id": "b79d2b80",
   "metadata": {},
   "outputs": [],
   "source": [
    "#7\n",
    "y=np.array([1100, 800, 750, 850, 1300, 1000, 1000, 1300, 800])"
   ]
  },
  {
   "cell_type": "code",
   "execution_count": 41,
   "id": "11564742",
   "metadata": {},
   "outputs": [],
   "source": [
    "#8\n",
    "w=np.matmul(np.matmul(XTXI,X.T),y)"
   ]
  },
  {
   "cell_type": "code",
   "execution_count": 64,
   "id": "6bc8d72e",
   "metadata": {},
   "outputs": [
    {
     "data": {
      "text/plain": [
       "4.594944810094579"
      ]
     },
     "execution_count": 64,
     "metadata": {},
     "output_type": "execute_result"
    }
   ],
   "source": [
    "#9\n",
    "w[0]"
   ]
  }
 ],
 "metadata": {
  "kernelspec": {
   "display_name": "Python 3 (ipykernel)",
   "language": "python",
   "name": "python3"
  },
  "language_info": {
   "codemirror_mode": {
    "name": "ipython",
    "version": 3
   },
   "file_extension": ".py",
   "mimetype": "text/x-python",
   "name": "python",
   "nbconvert_exporter": "python",
   "pygments_lexer": "ipython3",
   "version": "3.9.13"
  }
 },
 "nbformat": 4,
 "nbformat_minor": 5
}
